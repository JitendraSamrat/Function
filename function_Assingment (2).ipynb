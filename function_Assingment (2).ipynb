{
  "nbformat": 4,
  "nbformat_minor": 0,
  "metadata": {
    "colab": {
      "provenance": []
    },
    "kernelspec": {
      "name": "python3",
      "display_name": "Python 3"
    },
    "language_info": {
      "name": "python"
    }
  },
  "cells": [
    {
      "cell_type": "markdown",
      "source": [
        "# fuction Assignment"
      ],
      "metadata": {
        "id": "B_eLM6f0iFNv"
      }
    },
    {
      "cell_type": "markdown",
      "source": [
        " 1. What is the difference between a function and a method in Python?\n",
        "  - A function is a block of reusable code that is defined using def and can be called independently.\n",
        "Example:\n",
        "      \n",
        "          def greet(name):\n",
        "             return f\"Hello, {name}!\"\n",
        "          print(greet(\"Alice\"))  \n",
        "          Output: Hello, Alice!\n",
        "    \n",
        "      A method is a function that is associated with an object and is called on that object. It is defined inside a class.\n",
        "Example:\n",
        "              class Person:\n",
        "        \n",
        "                  def __init__(self, name):\n",
        "                    self.name = name\n",
        "    \n",
        "                  def greet(self):\n",
        "                   return f\"Hello, {self.name}!\"\n",
        "\n",
        "                  p = Person(\"Alice\")\n",
        "                  print(p.greet())  \n",
        "                  Output: Hello, Alice!\n",
        "\n",
        " 2. Explain the concept of function arguments and parameters in Python.\n",
        "- parameters are variables in a function definition, while arguments are actual values passed when calling the function.\n",
        "          Example:\n",
        "          def greet(name):  # 'name' is a parameter\n",
        "          print(f\"Hello, {name}!\")\n",
        "          greet(\"Alice\")  # \"Alice\" is an argument\n",
        "\n",
        "3. What are the different ways to define and call a function in Python?\n",
        "    - Regular function (def) – A standard function defined using the def keyword, which takes parameters and returns a value.\n",
        "    \n",
        "      Function with default arguments – A function where parameters have default values, so they are optional when calling the function.\n",
        "\n",
        "      Lambda function – A small, anonymous function defined using the lambda keyword, typically used for short, one-line operations.\n",
        "\n",
        "      Function with *args – Allows passing multiple positional arguments as a tuple, useful when the number of arguments is unknown.\n",
        "\n",
        "      Function with **kwargs – Allows passing multiple keyword arguments as a dictionary, enabling flexible argument handling.\n",
        "\n",
        "      Nested function – A function defined inside another function, usually for encapsulation or closures.\n",
        "\n",
        "      Function as an argument – A function that takes another function as a parameter, useful in functional programming.\n",
        "\n",
        "      Function returning another function – A function that returns another function, commonly used in closures and decorators.\n",
        "\n",
        "      Class method (@classmethod) – A method that belongs to a class rather than an instance, used when the function needs access to class attributes.\n",
        "\n",
        "      Static method (@staticmethod) – A method that does not depend on instance or class attributes, making it independent of the object state.\n",
        "\n",
        "4. What is the purpose of the `return` statement in a Python function\n",
        "- The return statement in a Python function is used to send a value back to the caller. It allows the function to output a result that can be stored in a variable or used in further calculations.\n",
        "\n",
        "          Example:\n",
        "\n",
        "          def add(a, b):\n",
        "            return a + b\n",
        "          result = add(5, 3)\n",
        "          print(result)  # Output: 8\n",
        "\n",
        "5.What are iterators in Python and how do they differ from iterables?\n",
        "  -  an iterator is an object that represents a stream of data and returns elements one at a time when iterated over. It implements the __iter__() and __next__() methods, where __iter__() returns the iterator object itself, and __next__() fetches the next element in the sequence. Once all elements are exhausted, calling __next__() raises a StopIteration exception. An iterable is any object that can be looped over, such as lists, tuples, dictionaries, and strings. Iterables implement the __iter__() method, which returns an iterator. The key difference is that iterables can be converted into iterators using iter(), while iterators produce values one at a time and do not store them in memory, making them more memory-efficient. For example, lists are iterables, but to fetch their elements lazily, they need to be converted into an iterator using the iter() function.\n",
        "\n",
        "6.Explain the concept of generators in Python and how they are defined.\n",
        "  - A generator is a special type of function that remembers its state and produces values one at a time instead of returning everything at once. This helps save memory when working with large datasets.Generators are defined like regular functions but use yield instead of return.\n",
        "\n",
        "7.What are the advantages of using generators over regular functions?\n",
        "- Uses Less Memory\n",
        "Generators create values one at a time instead of storing everything in memory. This is helpful when working with large amounts of data. Regular functions return full lists, which take up more memory.\n",
        "\n",
        "      Faster Execution\n",
        "      Since generators produce values only when needed, they work faster than regular functions that generate everything at once. This is useful when you don’t need all the results immediately.\n",
        "\n",
        "      Easier to Write\n",
        "      Generators make code simpler and cleaner. The yield keyword allows a function to pause and resume without extra effort, reducing the need for loops and extra variables.\n",
        "8.What is a lambda function in Python and when is it typically used?\n",
        "- A lambda function in Python is a small, anonymous function defined using the lambda keyword. It can have multiple inputs but only one expression, which is automatically returned. Unlike regular functions defined with def, lambda functions are written in a single line and don’t require a name.\n",
        "\n",
        "      Lambda functions are typically used when a short, one-time function is needed, such as:\n",
        "\n",
        "        Inline operations (e.g., quick calculations inside expressions)\n",
        "\n",
        "        Sorting and filtering (e.g., using sorted(), filter(), or map())\n",
        "\n",
        "        Passing as arguments to higher-order functions (e.g., in functional programming)\n",
        "\n",
        "        Replacing simple functions to avoid unnecessary function definitions\n",
        "\n",
        "9.Explain the purpose and usage of the `map()` function in Python.\n",
        "  - The map() function in Python is used to apply a function to every item in a list, tuple, or other iterable. Instead of using a loop to process each element one by one, map() automatically does it for you, making the code shorter and more efficient. It takes two main inputs: a function and an iterable. The function is applied to each element, and the result is returned as a map object, which can be converted into a list or another collection.\n",
        "\n",
        "  map() is useful when you need to modify all elements in a list, like doubling numbers or changing text to uppercase. It is especially helpful when working with large amounts of data because it processes elements lazily, meaning it doesn't store everything in memory at once. However, for simple cases, list comprehensions are sometimes preferred because they are easier to read.\n",
        "  \n",
        "10.What is the difference between `map()`, `reduce()`, and `filter()` functions in Python?\n",
        "- The map(), reduce(), and filter() functions in Python are used for processing data efficiently, but they serve different purposes.\n",
        "\n",
        "     map() applies a function to each element in a list or iterable and returns a new iterable with the modified values. It is useful for transforming data, like squaring numbers or converting text to uppercase.\n",
        "\n",
        "     filter() applies a function that returns True or False to decide which elements to keep. It is used for selecting specific elements, like filtering out even numbers or keeping only positive values.\n",
        "\n",
        "     reduce() applies a function cumulatively to all elements, reducing them to a single value. It is often used for operations like summing a list or finding the product of all numbers.\n",
        "     \n",
        "11.Using pen & Paper write the internal mechanism for sum operation using  reduce function on this given list:[47,11,42,13].\n",
        "- The reduce() function in Python is used to apply a function cumulatively to a sequence, reducing it to a single value. It processes the elements one by one by applying the function to the current result and the next element.\n",
        "\n",
        "  Step-by-Step Execution of reduce() for Sum\n",
        "  Given List:\n",
        "      numbers = [47, 11, 42, 13]\n",
        "  Using reduce() to Find the Sum:\n",
        "      from functools import reduce\n",
        "      result = reduce(lambda x, y: x + y, [47, 11, 42, 13])\n",
        "      print(result)  # Output: 113"
      ],
      "metadata": {
        "id": "jRTL1vwJjAE1"
      }
    },
    {
      "cell_type": "markdown",
      "source": [
        "#PRACTICAL ANSWER"
      ],
      "metadata": {
        "id": "R0ZxDp3JlGD6"
      }
    },
    {
      "cell_type": "code",
      "source": [
        "#1. Write a Python function that takes a list of numbers as input and returns the sum of all even numbers in the list.\n",
        "def sum_of_evens(numbers):\n",
        "    return sum(num for num in numbers if num % 2 == 0)\n",
        "\n",
        "nums = [1, 2, 3, 4, 5, 6]\n",
        "print(sum_of_evens(nums))\n"
      ],
      "metadata": {
        "colab": {
          "base_uri": "https://localhost:8080/"
        },
        "id": "b85OyagGlKkK",
        "outputId": "1569e4fe-bf9d-450e-b01e-16b25e5c6eb6"
      },
      "execution_count": null,
      "outputs": [
        {
          "output_type": "stream",
          "name": "stdout",
          "text": [
            "12\n"
          ]
        }
      ]
    },
    {
      "cell_type": "code",
      "source": [
        "# 2. Create a Python function that accepts a string and returns the reverse of that string.\n",
        "def reverse_string(s):\n",
        "    return s[::-1]\n",
        "\n",
        "text = \"Jitendra\"\n",
        "print(reverse_string(text))\n"
      ],
      "metadata": {
        "colab": {
          "base_uri": "https://localhost:8080/"
        },
        "id": "fswFq8nPlkEM",
        "outputId": "85f0f9a7-69c6-474c-a3cc-0f5c71909abd"
      },
      "execution_count": null,
      "outputs": [
        {
          "output_type": "stream",
          "name": "stdout",
          "text": [
            "ardnetiJ\n"
          ]
        }
      ]
    },
    {
      "cell_type": "code",
      "source": [
        "# 3. Implement a Python function that takes a list of integers and returns a new list containing the squares of each number.\n",
        "def square_numbers(numbers):\n",
        "    return [num ** 2 for num in numbers]\n",
        "\n",
        "nums = [1, 2, 3, 4, 5]\n",
        "print(square_numbers(nums))\n"
      ],
      "metadata": {
        "colab": {
          "base_uri": "https://localhost:8080/"
        },
        "id": "wrDxJIqyl166",
        "outputId": "79bf896a-d106-4938-e9d7-d076badcdef5"
      },
      "execution_count": null,
      "outputs": [
        {
          "output_type": "stream",
          "name": "stdout",
          "text": [
            "[1, 4, 9, 16, 25]\n"
          ]
        }
      ]
    },
    {
      "cell_type": "code",
      "source": [
        "# 4. Write a Python function that checks if a given number is prime or not from 1 to 200.\n",
        "def is_prime(n):\n",
        "    if n < 2:\n",
        "        return False\n",
        "    for i in range(2, int(n ** 0.5) + 1):\n",
        "        if n % i == 0:\n",
        "            return False\n",
        "    return True\n",
        "\n",
        "prime_numbers = [num for num in range(1, 201) if is_prime(num)]\n",
        "print(prime_numbers)\n"
      ],
      "metadata": {
        "colab": {
          "base_uri": "https://localhost:8080/"
        },
        "id": "RFutv7kVmFm7",
        "outputId": "5b8be914-e135-406f-c3df-6fd50fd4d55f"
      },
      "execution_count": null,
      "outputs": [
        {
          "output_type": "stream",
          "name": "stdout",
          "text": [
            "[2, 3, 5, 7, 11, 13, 17, 19, 23, 29, 31, 37, 41, 43, 47, 53, 59, 61, 67, 71, 73, 79, 83, 89, 97, 101, 103, 107, 109, 113, 127, 131, 137, 139, 149, 151, 157, 163, 167, 173, 179, 181, 191, 193, 197, 199]\n"
          ]
        }
      ]
    },
    {
      "cell_type": "code",
      "source": [
        "# 5. Create an iterator class in Python that generates the Fibonacci sequence up to a specified number of terms.\n",
        "class FibonacciIterator:\n",
        "    def __init__(self, n_terms):\n",
        "        self.n_terms = n_terms\n",
        "        self.a, self.b = 0, 1\n",
        "        self.count = 0\n",
        "\n",
        "    def __iter__(self):\n",
        "        return self\n",
        "\n",
        "    def __next__(self):\n",
        "        if self.count >= self.n_terms:\n",
        "            raise StopIteration\n",
        "        fib_number = self.a\n",
        "        self.a, self.b = self.b, self.a + self.b  # Move to next Fibonacci number\n",
        "        self.count += 1\n",
        "        return fib_number\n",
        "\n",
        "fib_iter = FibonacciIterator(10)\n",
        "for num in fib_iter:\n",
        "    print(num, end=\" \")\n"
      ],
      "metadata": {
        "colab": {
          "base_uri": "https://localhost:8080/"
        },
        "id": "Jg3lsGRbmSOT",
        "outputId": "c4f3b8d9-f0f1-4647-ad5f-13a985a46c94"
      },
      "execution_count": null,
      "outputs": [
        {
          "output_type": "stream",
          "name": "stdout",
          "text": [
            "0 1 1 2 3 5 8 13 21 34 "
          ]
        }
      ]
    },
    {
      "cell_type": "code",
      "source": [
        "# 6. Write a generator function in Python that yields the powers of 2 up to a given exponent.\n",
        "def powers_of_two(exponent):\n",
        "    for i in range(exponent + 1):\n",
        "        yield 2 ** i\n",
        "\n",
        "for power in powers_of_two(5):\n",
        "    print(power, end=\" \")\n"
      ],
      "metadata": {
        "colab": {
          "base_uri": "https://localhost:8080/"
        },
        "id": "kevLJ75vmk4m",
        "outputId": "20c263cb-98e4-41cd-a773-555ecc2d5162"
      },
      "execution_count": null,
      "outputs": [
        {
          "output_type": "stream",
          "name": "stdout",
          "text": [
            "1 2 4 8 16 32 "
          ]
        }
      ]
    },
    {
      "cell_type": "code",
      "source": [
        "# 8. Use a lambda function in Python to sort a list of tuples based on the second element of each tuple.\n",
        "data = [(1, 3), (4, 1), (2, 2), (5, 0)]\n",
        "sorted_data = sorted(data, key=lambda x: x[1])\n",
        "print(sorted_data)\n",
        "\n"
      ],
      "metadata": {
        "colab": {
          "base_uri": "https://localhost:8080/"
        },
        "id": "Oz6KLpgHm2Lu",
        "outputId": "93fa1836-f269-4685-ef2e-3a42c31e389c"
      },
      "execution_count": null,
      "outputs": [
        {
          "output_type": "stream",
          "name": "stdout",
          "text": [
            "[(5, 0), (4, 1), (2, 2), (1, 3)]\n"
          ]
        }
      ]
    },
    {
      "cell_type": "code",
      "source": [
        "# 9. Write a Python program that uses `map()` to convert a list of temperatures from Celsius to Fahrenheit.\n",
        "celsius_to_fahrenheit = lambda c: (c * 9/5) + 32\n",
        "celsius_temps = [0, 10, 20, 30, 40, 100]\n",
        "fahrenheit_temps = list(map(celsius_to_fahrenheit, celsius_temps))\n",
        "print(fahrenheit_temps)\n"
      ],
      "metadata": {
        "colab": {
          "base_uri": "https://localhost:8080/"
        },
        "id": "uszzEMTFn88O",
        "outputId": "b44b34cd-41b1-42db-d0af-25f51d3fe0cd"
      },
      "execution_count": null,
      "outputs": [
        {
          "output_type": "stream",
          "name": "stdout",
          "text": [
            "[32.0, 50.0, 68.0, 86.0, 104.0, 212.0]\n"
          ]
        }
      ]
    },
    {
      "cell_type": "code",
      "source": [
        "# 10. Create a Python program that uses `filter()` to remove all the vowels from a given string.\n",
        "is_not_vowel = lambda char: char.lower() not in \"aeiou\"\n",
        "input_string = \"Hello, how are you?\"\n",
        "filtered_string = \"\".join(filter(is_not_vowel, input_string))\n",
        "print(filtered_string)\n"
      ],
      "metadata": {
        "colab": {
          "base_uri": "https://localhost:8080/"
        },
        "id": "ZXsYEIVaoLiY",
        "outputId": "d4b76a1b-dc22-4783-b1c6-b58fb4689af9"
      },
      "execution_count": null,
      "outputs": [
        {
          "output_type": "stream",
          "name": "stdout",
          "text": [
            "Hll, hw r y?\n"
          ]
        }
      ]
    },
    {
      "cell_type": "code",
      "source": [
        "#11.\n",
        "orders = [\n",
        "    (34587, \"Learning Python, Mark Lutz\", 4, 40.95),\n",
        "    (98762, \"Programming Python, Mark Lutz\", 5, 56.80),\n",
        "    (77226, \"Head First Python, Paul Barry\", 3, 32.95),\n",
        "    (88112, \"Einführung in Python3, Bernd Klein\", 3, 24.99)\n",
        "]\n",
        "\n",
        "order_totals = list(map(lambda x: (x[0], x[2] * x[3] + (10 if x[2] * x[3] < 100 else 0)), orders))\n",
        "\n",
        "print(order_totals)\n"
      ],
      "metadata": {
        "colab": {
          "base_uri": "https://localhost:8080/"
        },
        "id": "0eRUbNViocZ7",
        "outputId": "d392e41a-a8af-4231-cfef-013dc918226f"
      },
      "execution_count": null,
      "outputs": [
        {
          "output_type": "stream",
          "name": "stdout",
          "text": [
            "[(34587, 163.8), (98762, 284.0), (77226, 108.85000000000001), (88112, 84.97)]\n"
          ]
        }
      ]
    }
  ]
}